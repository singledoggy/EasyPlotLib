{
    "cells": [
        {
            "cell_type": "code",
            "execution_count": 2,
            "id": "58e87a04",
            "metadata": {
                "scrolled": true,
                "trusted": true
            },
            "outputs": [
                {
                    "ename": "OSError",
                    "evalue": "'nature' is not a valid package style, path of style file, URL of style file, or library style name (library styles are listed in `style.available`)",
                    "output_type": "error",
                    "traceback": [
                        "\u001b[0;31m---------------------------------------------------------------------------\u001b[0m",
                        "\u001b[0;31mFileNotFoundError\u001b[0m                         Traceback (most recent call last)",
                        "File \u001b[0;32m~/miniforge3/envs/metro/lib/python3.12/site-packages/matplotlib/style/core.py:137\u001b[0m, in \u001b[0;36muse\u001b[0;34m(style)\u001b[0m\n\u001b[1;32m    136\u001b[0m \u001b[38;5;28;01mtry\u001b[39;00m:\n\u001b[0;32m--> 137\u001b[0m     style \u001b[38;5;241m=\u001b[39m \u001b[43m_rc_params_in_file\u001b[49m\u001b[43m(\u001b[49m\u001b[43mstyle\u001b[49m\u001b[43m)\u001b[49m\n\u001b[1;32m    138\u001b[0m \u001b[38;5;28;01mexcept\u001b[39;00m \u001b[38;5;167;01mOSError\u001b[39;00m \u001b[38;5;28;01mas\u001b[39;00m err:\n",
                        "File \u001b[0;32m~/miniforge3/envs/metro/lib/python3.12/site-packages/matplotlib/__init__.py:866\u001b[0m, in \u001b[0;36m_rc_params_in_file\u001b[0;34m(fname, transform, fail_on_error)\u001b[0m\n\u001b[1;32m    865\u001b[0m rc_temp \u001b[38;5;241m=\u001b[39m {}\n\u001b[0;32m--> 866\u001b[0m \u001b[43m\u001b[49m\u001b[38;5;28;43;01mwith\u001b[39;49;00m\u001b[43m \u001b[49m\u001b[43m_open_file_or_url\u001b[49m\u001b[43m(\u001b[49m\u001b[43mfname\u001b[49m\u001b[43m)\u001b[49m\u001b[43m \u001b[49m\u001b[38;5;28;43;01mas\u001b[39;49;00m\u001b[43m \u001b[49m\u001b[43mfd\u001b[49m\u001b[43m:\u001b[49m\n\u001b[1;32m    867\u001b[0m \u001b[43m    \u001b[49m\u001b[38;5;28;43;01mtry\u001b[39;49;00m\u001b[43m:\u001b[49m\n",
                        "File \u001b[0;32m~/miniforge3/envs/metro/lib/python3.12/contextlib.py:137\u001b[0m, in \u001b[0;36m_GeneratorContextManager.__enter__\u001b[0;34m(self)\u001b[0m\n\u001b[1;32m    136\u001b[0m \u001b[38;5;28;01mtry\u001b[39;00m:\n\u001b[0;32m--> 137\u001b[0m     \u001b[38;5;28;01mreturn\u001b[39;00m \u001b[38;5;28;43mnext\u001b[39;49m\u001b[43m(\u001b[49m\u001b[38;5;28;43mself\u001b[39;49m\u001b[38;5;241;43m.\u001b[39;49m\u001b[43mgen\u001b[49m\u001b[43m)\u001b[49m\n\u001b[1;32m    138\u001b[0m \u001b[38;5;28;01mexcept\u001b[39;00m \u001b[38;5;167;01mStopIteration\u001b[39;00m:\n",
                        "File \u001b[0;32m~/miniforge3/envs/metro/lib/python3.12/site-packages/matplotlib/__init__.py:843\u001b[0m, in \u001b[0;36m_open_file_or_url\u001b[0;34m(fname)\u001b[0m\n\u001b[1;32m    842\u001b[0m fname \u001b[38;5;241m=\u001b[39m os\u001b[38;5;241m.\u001b[39mpath\u001b[38;5;241m.\u001b[39mexpanduser(fname)\n\u001b[0;32m--> 843\u001b[0m \u001b[38;5;28;01mwith\u001b[39;00m \u001b[38;5;28;43mopen\u001b[39;49m\u001b[43m(\u001b[49m\u001b[43mfname\u001b[49m\u001b[43m,\u001b[49m\u001b[43m \u001b[49m\u001b[43mencoding\u001b[49m\u001b[38;5;241;43m=\u001b[39;49m\u001b[38;5;124;43m'\u001b[39;49m\u001b[38;5;124;43mutf-8\u001b[39;49m\u001b[38;5;124;43m'\u001b[39;49m\u001b[43m)\u001b[49m \u001b[38;5;28;01mas\u001b[39;00m f:\n\u001b[1;32m    844\u001b[0m     \u001b[38;5;28;01myield\u001b[39;00m f\n",
                        "\u001b[0;31mFileNotFoundError\u001b[0m: [Errno 2] No such file or directory: 'nature'",
                        "\nThe above exception was the direct cause of the following exception:\n",
                        "\u001b[0;31mOSError\u001b[0m                                   Traceback (most recent call last)",
                        "Cell \u001b[0;32mIn[2], line 10\u001b[0m\n\u001b[1;32m      7\u001b[0m figsizes \u001b[38;5;241m=\u001b[39m epl\u001b[38;5;241m.\u001b[39mfigsizes(\u001b[38;5;124m\"\u001b[39m\u001b[38;5;124mnat2\u001b[39m\u001b[38;5;124m\"\u001b[39m, nrows\u001b[38;5;241m=\u001b[39mnrows, ncols\u001b[38;5;241m=\u001b[39mncols)\n\u001b[1;32m      9\u001b[0m \u001b[38;5;66;03m#plt.style.use([\"science\", \"no-latex\"])\u001b[39;00m\n\u001b[0;32m---> 10\u001b[0m \u001b[43mplt\u001b[49m\u001b[38;5;241;43m.\u001b[39;49m\u001b[43mstyle\u001b[49m\u001b[38;5;241;43m.\u001b[39;49m\u001b[43muse\u001b[49m\u001b[43m(\u001b[49m\u001b[43m[\u001b[49m\u001b[43m \u001b[49m\u001b[38;5;124;43m\"\u001b[39;49m\u001b[38;5;124;43mnature\u001b[39;49m\u001b[38;5;124;43m\"\u001b[39;49m\u001b[43m]\u001b[49m\u001b[43m)\u001b[49m\n\u001b[1;32m     11\u001b[0m plt\u001b[38;5;241m.\u001b[39mrcParams\u001b[38;5;241m.\u001b[39mupdate(figsizes)\n\u001b[1;32m     12\u001b[0m fig, axs \u001b[38;5;241m=\u001b[39m plt\u001b[38;5;241m.\u001b[39msubplots(nrows\u001b[38;5;241m=\u001b[39mnrows, ncols\u001b[38;5;241m=\u001b[39mncols, sharex\u001b[38;5;241m=\u001b[39m\u001b[38;5;28;01mTrue\u001b[39;00m, sharey\u001b[38;5;241m=\u001b[39m\u001b[38;5;28;01mTrue\u001b[39;00m)\n",
                        "File \u001b[0;32m~/miniforge3/envs/metro/lib/python3.12/site-packages/matplotlib/style/core.py:139\u001b[0m, in \u001b[0;36muse\u001b[0;34m(style)\u001b[0m\n\u001b[1;32m    137\u001b[0m         style \u001b[38;5;241m=\u001b[39m _rc_params_in_file(style)\n\u001b[1;32m    138\u001b[0m     \u001b[38;5;28;01mexcept\u001b[39;00m \u001b[38;5;167;01mOSError\u001b[39;00m \u001b[38;5;28;01mas\u001b[39;00m err:\n\u001b[0;32m--> 139\u001b[0m         \u001b[38;5;28;01mraise\u001b[39;00m \u001b[38;5;167;01mOSError\u001b[39;00m(\n\u001b[1;32m    140\u001b[0m             \u001b[38;5;124mf\u001b[39m\u001b[38;5;124m\"\u001b[39m\u001b[38;5;132;01m{\u001b[39;00mstyle\u001b[38;5;132;01m!r}\u001b[39;00m\u001b[38;5;124m is not a valid package style, path of style \u001b[39m\u001b[38;5;124m\"\u001b[39m\n\u001b[1;32m    141\u001b[0m             \u001b[38;5;124mf\u001b[39m\u001b[38;5;124m\"\u001b[39m\u001b[38;5;124mfile, URL of style file, or library style name (library \u001b[39m\u001b[38;5;124m\"\u001b[39m\n\u001b[1;32m    142\u001b[0m             \u001b[38;5;124mf\u001b[39m\u001b[38;5;124m\"\u001b[39m\u001b[38;5;124mstyles are listed in `style.available`)\u001b[39m\u001b[38;5;124m\"\u001b[39m) \u001b[38;5;28;01mfrom\u001b[39;00m \u001b[38;5;21;01merr\u001b[39;00m\n\u001b[1;32m    143\u001b[0m filtered \u001b[38;5;241m=\u001b[39m {}\n\u001b[1;32m    144\u001b[0m \u001b[38;5;28;01mfor\u001b[39;00m k \u001b[38;5;129;01min\u001b[39;00m style:  \u001b[38;5;66;03m# don't trigger RcParams.__getitem__('backend')\u001b[39;00m\n",
                        "\u001b[0;31mOSError\u001b[0m: 'nature' is not a valid package style, path of style file, URL of style file, or library style name (library styles are listed in `style.available`)"
                    ]
                }
            ],
            "source": "import cartopy.crs as ccrs\nimport EasyPlotLib as epl\nimport matplotlib.pyplot as plt\nfrom cnmaps import get_adm_maps\n\nnrows, ncols = 1, 2\nfigsizes = epl.figsizes(\"nat2\", nrows=nrows, ncols=ncols)\n\n# plt.style.use([\"science\", \"no-latex\"])\nplt.style.use([\"nature\"])\nplt.rcParams.update(figsizes)\nfig, axs = plt.subplots(nrows=nrows, ncols=ncols, sharex=True, sharey=True)\n\nfor n, ax in enumerate(axs.flatten()):\n    ax.plot([1.0, 2.0], [3.0, 4.0])\n    ax.plot([1.0, 2.0], [2.0, 5.0])\n    ax.annotate(**epl.subplot_labels(n, \"A\"))\n\nplt.savefig(\"test.png\", dpi=300)"
        },
        {
            "cell_type": "code",
            "execution_count": 37,
            "id": "8e3f2b45",
            "metadata": {
                "trusted": true
            },
            "outputs": [
                {
                    "data": {
                        "text/plain": "['sans-serif']"
                    },
                    "execution_count": 37,
                    "metadata": {},
                    "output_type": "execute_result"
                }
            ],
            "source": "plt.rcParams[\"font.family\"]"
        },
        {
            "cell_type": "code",
            "execution_count": 3,
            "id": "e9b2e627",
            "metadata": {
                "trusted": true
            },
            "outputs": [
                {
                    "data": {
                        "text/plain": "['Solarize_Light2',\n '_classic_test_patch',\n '_mpl-gallery',\n '_mpl-gallery-nogrid',\n 'bmh',\n 'classic',\n 'dark_background',\n 'fast',\n 'fivethirtyeight',\n 'ggplot',\n 'grayscale',\n 'seaborn-v0_8',\n 'seaborn-v0_8-bright',\n 'seaborn-v0_8-colorblind',\n 'seaborn-v0_8-dark',\n 'seaborn-v0_8-dark-palette',\n 'seaborn-v0_8-darkgrid',\n 'seaborn-v0_8-deep',\n 'seaborn-v0_8-muted',\n 'seaborn-v0_8-notebook',\n 'seaborn-v0_8-paper',\n 'seaborn-v0_8-pastel',\n 'seaborn-v0_8-poster',\n 'seaborn-v0_8-talk',\n 'seaborn-v0_8-ticks',\n 'seaborn-v0_8-white',\n 'seaborn-v0_8-whitegrid',\n 'tableau-colorblind10']"
                    },
                    "execution_count": 3,
                    "metadata": {},
                    "output_type": "execute_result"
                }
            ],
            "source": "plt.style.use([\"default\"])\n\nplt.rcParams[\"font.sans-serif\"]"
        },
        {
            "cell_type": "code",
            "execution_count": 39,
            "id": "7da58c08",
            "metadata": {
                "trusted": true
            },
            "outputs": [
                {
                    "data": {
                        "text/plain": "['TeX Gyre Heros']"
                    },
                    "execution_count": 39,
                    "metadata": {},
                    "output_type": "execute_result"
                }
            ],
            "source": "import matplotlib.pyplot as plt\n\nimport EasyPlotLib as epl\n\nnrows, ncols = 1, 1\nfigsizes = epl.figsizes(\"nat2\", nrows=nrows, ncols=ncols)\n\nplt.style.use([\"science\", \"nature\", \"no-latex\"])\nplt.rcParams.update(figsizes)\nplt.rcParams.update(\n    {\n        \"font.family\": \"sans-serif\",\n        # 'font.sans-serif': ['Helvetica'],\n    }\n)\n\nfig, axs = plt.subplots(nrows=nrows, ncols=ncols, sharex=True, sharey=True)\n\n# for n, ax in enumerate(axs.flatten()):\n#       ax.annotate(**epl.subplot_labels(n, \"a\",fontsize=12))"
        },
        {
            "cell_type": "code",
            "execution_count": null,
            "id": "927894b6",
            "metadata": {
                "trusted": true
            },
            "outputs": [],
            "source": "nrows, ncols = 1, 2\nfigsizes = epl.figsizes(\"nat2\", inverted_aspect_ratio=1)\n\nplt.style.use(\"default\")\nplt.rcParams.update(figsizes)\n\nchina_map = get_adm_maps(level=\"\u7701\", engine=\"geopandas\")\nfig, axs = plt.subplots(\n    ncols=ncols,\n    nrows=nrows,\n    subplot_kw={\"projection\": ccrs.PlateCarree()},\n)\nfor n, ax in enumerate(axs.flatten()):\n    china_map.plot(ax=ax, edgecolor=\"black\", facecolor=\"none\", linewidth=0.5)  # type: ignore\n    ax.annotate(**epl.subplot_labels(n, \"A\"))\n\nwidth, height = fig.get_size_inches()\ninverted_aspect_ratio = height / width\nfigsizes = epl.figsizes(\"nat2\", inverted_aspect_ratio=inverted_aspect_ratio)\nfig.set_size_inches(figsizes[\"figure.figsize\"])\nfig.savefig(\"test2.png\", dpi=300)"
        },
        {
            "cell_type": "code",
            "execution_count": 19,
            "id": "72edadc3",
            "metadata": {
                "trusted": true
            },
            "outputs": [],
            "source": ""
        }
    ],
    "metadata": {
        "kernelspec": {
            "display_name": "Python 3 (ipykernel)",
            "language": "python",
            "name": "python3"
        },
        "language_info": {
            "codemirror_mode": {
                "name": "ipython",
                "version": 3
            },
            "file_extension": ".py",
            "mimetype": "text/x-python",
            "name": "python",
            "nbconvert_exporter": "python",
            "pygments_lexer": "ipython3",
            "version": "3.12.4"
        }
    },
    "nbformat": 4,
    "nbformat_minor": 5
}